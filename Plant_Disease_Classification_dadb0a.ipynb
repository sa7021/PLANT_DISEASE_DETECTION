{
  "metadata": {
    "kernelspec": {
      "language": "python",
      "display_name": "Python 3",
      "name": "python3"
    },
    "language_info": {
      "name": "python",
      "version": "3.7.10",
      "mimetype": "text/x-python",
      "codemirror_mode": {
        "name": "ipython",
        "version": 3
      },
      "pygments_lexer": "ipython3",
      "nbconvert_exporter": "python",
      "file_extension": ".py"
    },
    "kaggle": {
      "accelerator": "gpu",
      "dataSources": [
        {
          "sourceId": 2394131,
          "sourceType": "datasetVersion",
          "datasetId": 1447507
        }
      ],
      "dockerImageVersionId": 30120,
      "isInternetEnabled": false,
      "language": "python",
      "sourceType": "notebook",
      "isGpuEnabled": true
    },
    "colab": {
      "name": "Plant Disease Classification dadb0a",
      "provenance": []
    }
  },
  "nbformat_minor": 0,
  "nbformat": 4,
  "cells": [
    {
      "source": [
        "\n",
        "# IMPORTANT: RUN THIS CELL IN ORDER TO IMPORT YOUR KAGGLE DATA SOURCES\n",
        "# TO THE CORRECT LOCATION (/kaggle/input) IN YOUR NOTEBOOK,\n",
        "# THEN FEEL FREE TO DELETE THIS CELL.\n",
        "# NOTE: THIS NOTEBOOK ENVIRONMENT DIFFERS FROM KAGGLE'S PYTHON\n",
        "# ENVIRONMENT SO THERE MAY BE MISSING LIBRARIES USED BY YOUR\n",
        "# NOTEBOOK.\n",
        "\n",
        "import os\n",
        "import sys\n",
        "from tempfile import NamedTemporaryFile\n",
        "from urllib.request import urlopen\n",
        "from urllib.parse import unquote, urlparse\n",
        "from urllib.error import HTTPError\n",
        "from zipfile import ZipFile\n",
        "import tarfile\n",
        "import shutil\n",
        "\n",
        "CHUNK_SIZE = 40960\n",
        "DATA_SOURCE_MAPPING = 'plant-disease-recognition-dataset:https%3A%2F%2Fstorage.googleapis.com%2Fkaggle-data-sets%2F1447507%2F2394131%2Fbundle%2Farchive.zip%3FX-Goog-Algorithm%3DGOOG4-RSA-SHA256%26X-Goog-Credential%3Dgcp-kaggle-com%2540kaggle-161607.iam.gserviceaccount.com%252F20240503%252Fauto%252Fstorage%252Fgoog4_request%26X-Goog-Date%3D20240503T054727Z%26X-Goog-Expires%3D259200%26X-Goog-SignedHeaders%3Dhost%26X-Goog-Signature%3D00bef426d4ecd4ff83791341a941bae21a1abb4831a8abf2ad809a677e2d7e0958917fea47df365f03d856258c45514111014e7a909ba35f952762e2d1b3cd35713a0b97a6cf97a9a89612139d7cbe166a203b4edc4e0f439152e7ddf563c296309d34571188dc51f74f04805df6c22964ae69b4b3b24715ecaeb29c24859c0a65b53f97aa139aa56c662e3bd9c99c8dbc2c0032a146b1ad1fea96970c699916bd4b9e5ff524544e1a9d13937a8bab483513c59e2dd1177a1feaed9e2de5506d014f6394d7f522f6fed712691e1425cc0533124a544036278d8c519a92c5649b5ed1da37932ce67d756310315dd7129c67b8cc89a51fb85485d561d6249a4dd7'\n",
        "\n",
        "KAGGLE_INPUT_PATH='/kaggle/input'\n",
        "KAGGLE_WORKING_PATH='/kaggle/working'\n",
        "KAGGLE_SYMLINK='kaggle'\n",
        "\n",
        "!umount /kaggle/input/ 2> /dev/null\n",
        "shutil.rmtree('/kaggle/input', ignore_errors=True)\n",
        "os.makedirs(KAGGLE_INPUT_PATH, 0o777, exist_ok=True)\n",
        "os.makedirs(KAGGLE_WORKING_PATH, 0o777, exist_ok=True)\n",
        "\n",
        "try:\n",
        "  os.symlink(KAGGLE_INPUT_PATH, os.path.join(\"..\", 'input'), target_is_directory=True)\n",
        "except FileExistsError:\n",
        "  pass\n",
        "try:\n",
        "  os.symlink(KAGGLE_WORKING_PATH, os.path.join(\"..\", 'working'), target_is_directory=True)\n",
        "except FileExistsError:\n",
        "  pass\n",
        "\n",
        "for data_source_mapping in DATA_SOURCE_MAPPING.split(','):\n",
        "    directory, download_url_encoded = data_source_mapping.split(':')\n",
        "    download_url = unquote(download_url_encoded)\n",
        "    filename = urlparse(download_url).path\n",
        "    destination_path = os.path.join(KAGGLE_INPUT_PATH, directory)\n",
        "    try:\n",
        "        with urlopen(download_url) as fileres, NamedTemporaryFile() as tfile:\n",
        "            total_length = fileres.headers['content-length']\n",
        "            print(f'Downloading {directory}, {total_length} bytes compressed')\n",
        "            dl = 0\n",
        "            data = fileres.read(CHUNK_SIZE)\n",
        "            while len(data) > 0:\n",
        "                dl += len(data)\n",
        "                tfile.write(data)\n",
        "                done = int(50 * dl / int(total_length))\n",
        "                sys.stdout.write(f\"\\r[{'=' * done}{' ' * (50-done)}] {dl} bytes downloaded\")\n",
        "                sys.stdout.flush()\n",
        "                data = fileres.read(CHUNK_SIZE)\n",
        "            if filename.endswith('.zip'):\n",
        "              with ZipFile(tfile) as zfile:\n",
        "                zfile.extractall(destination_path)\n",
        "            else:\n",
        "              with tarfile.open(tfile.name) as tarfile:\n",
        "                tarfile.extractall(destination_path)\n",
        "            print(f'\\nDownloaded and uncompressed: {directory}')\n",
        "    except HTTPError as e:\n",
        "        print(f'Failed to load (likely expired) {download_url} to path {destination_path}')\n",
        "        continue\n",
        "    except OSError as e:\n",
        "        print(f'Failed to load {download_url} to path {destination_path}')\n",
        "        continue\n",
        "\n",
        "print('Data source import complete.')\n"
      ],
      "metadata": {
        "id": "6XopdmeLXHE7"
      },
      "cell_type": "code",
      "outputs": [],
      "execution_count": null
    },
    {
      "cell_type": "markdown",
      "source": [
        "<img src=\"https://images.theconversation.com/files/288176/original/file-20190815-136190-cn8sg3.jpg?ixlib=rb-1.1.0&rect=0%2C793%2C5515%2C2753&q=45&auto=format&w=1356&h=668&fit=crop\">"
      ],
      "metadata": {
        "id": "kNh01t1FXHFI"
      }
    },
    {
      "cell_type": "markdown",
      "source": [
        "<link rel=\"preconnect\" href=\"https://fonts.googleapis.com\">\n",
        "<link rel=\"preconnect\" href=\"https://fonts.gstatic.com\" crossorigin>\n",
        "<link href=\"https://fonts.googleapis.com/css2?family=Inter:wght@500&display=swap\" rel=\"stylesheet\">\n",
        "\n",
        "\n",
        "<h1 style=\"font-size: 30px; font-family: 'Inter', sans-serif;\">Introducing to the Plant Disease Recognition Dataset</h1>\n",
        "<p style=\"font-size: 17px; font-family: 'Inter', sans-serif;\">This dataset contains three labels: <b>Healthy</b>, <b>Powdery</b>, <b>Rust</b> referring to plant conditions. There is a total of 1530 images divided into train, test, and validation sets.</p>\n",
        "\n",
        "<h3 style=\"font-size: 25px; font-family: 'Inter', sans-serif;\">Rusts</h3>\n",
        "<p style=\"font-size: 17px; font-family: 'Inter', sans-serif;\">\n",
        "    \n",
        "Rusts are plant diseases caused by pathogenic fungi of the order Pucciniales (previously known as Uredinales).\n",
        "\n",
        "An estimated 168 rust genera and approximately 7,000 species, more than half of which belong to the genus Puccinia, are currently accepted.[1] Rust fungi are highly specialized plant pathogens with several unique features. Taken as a group, rust fungi are diverse and affect many kinds of plants. However, each species has a very narrow range of hosts and cannot be transmitted to non-host plants. In addition, most rust fungi cannot be grown easily in pure culture.\n",
        "\n",
        "A single species of rust fungi may be able to infect two different plant hosts in different stages of its life cycle, and may produce up to five morphologically and cytologically distinct spore-producing structures viz., spermogonia, aecia, uredinia, telia, and basidia in successive stages of reproduction.[2] Each spore type is very host specific, and can typically infect only one kind of plant.\n",
        "\n",
        "Rust fungi are obligate plant pathogens that only infect living plants. Infections begin when a spore lands on the plant surface, germinates, and invades its host. Infection is limited to plant parts such as leaves, petioles, tender shoots, stem, fruits, etc. Plants with severe rust infection may appear stunted, chlorotic (yellowed), or may display signs of infection such as rust fruiting bodies. Rust fungi grow intracellularly, and make spore-producing fruiting bodies within or, more often, on the surfaces of affected plant parts. Some rust species form perennial systemic infections that may cause plant deformities such as growth retardation, witch's broom, stem canker, galls, or hypertrophy of affected plant parts.\n",
        "\n",
        "Rusts get their name because they are most commonly observed as deposits of powdery rust-coloured or brown spores on plant surfaces. The Roman agricultural festival Robigalia (April 25) has ancient origins in combating wheat rust.</p>\n",
        "\n",
        "<img src=\"https://www.gardeningknowhow.com/wp-content/uploads/2020/11/plant-rust-disease.jpg\" width=\"500px\" height=\"300px\">\n",
        "\n",
        "\n",
        "<h3 style=\"font-size: 25px; font-family: 'Inter', sans-serif;\">Powdery</h3>\n",
        "\n",
        "<p style=\"font-size: 17px; font-family: 'Inter', sans-serif;\">\n",
        "\n",
        "Powdery mildew is a fungal disease that affects a wide range of plants. Powdery mildew diseases are caused by many different species of fungi in the order Erysiphales. Powdery mildew is one of the easier plant diseases to identify, as its symptoms are quite distinctive. Infected plants display white powdery spots on the leaves and stems. The lower leaves are the most affected, but the mildew can appear on any above-ground part of the plant. As the disease progresses, the spots get larger and denser as large numbers of asexual spores are formed, and the mildew may spread up and down the length of the plant.\n",
        "\n",
        "Powdery mildew grows well in environments with high humidity and moderate temperatures. Greenhouses provide an ideal moist, temperate environment for the spread of the disease. This causes harm to agricultural and horticultural practices where powdery mildew may thrive in a greenhouse setting. In an agricultural or horticultural setting, the pathogen can be controlled using chemical methods, bio organic methods, and genetic resistance. It is important to be aware of powdery mildew and its management as the resulting disease can significantly reduce important crop yields.\n",
        "</p>\n",
        "\n",
        "<img src=\"https://media.istockphoto.com/photos/grapevine-diseases-downy-mildew-is-a-fungal-disease-that-affects-a-picture-id1161364148?k=6&m=1161364148&s=612x612&w=0&h=BzE8nsZHyGD3y7r1wvKIYDrvqLQcJdk_efFCUNB3134=\" width=\"500px\" height=\"300px\">"
      ],
      "metadata": {
        "id": "qK86LkO-XHFL"
      }
    },
    {
      "cell_type": "markdown",
      "source": [
        "# Import requirements"
      ],
      "metadata": {
        "id": "Prmd_OKvXHFN"
      }
    },
    {
      "cell_type": "code",
      "source": [
        "!pip install -q addict"
      ],
      "metadata": {
        "_uuid": "8f2839f25d086af736a60e9eeb907d3b93b6e0e5",
        "_cell_guid": "b1076dfc-b9ad-4769-8c92-a6c4dae69d19",
        "execution": {
          "iopub.status.busy": "2024-04-29T05:13:56.181371Z",
          "iopub.execute_input": "2024-04-29T05:13:56.181836Z",
          "iopub.status.idle": "2024-04-29T05:15:59.339468Z",
          "shell.execute_reply.started": "2024-04-29T05:13:56.181729Z",
          "shell.execute_reply": "2024-04-29T05:15:59.337951Z"
        },
        "trusted": true,
        "id": "RvU7BjbhXHFO",
        "outputId": "1be85de3-103b-4f05-c8a2-552f20ba5dfe"
      },
      "execution_count": null,
      "outputs": [
        {
          "name": "stdout",
          "text": "\u001b[33mWARNING: Retrying (Retry(total=4, connect=None, read=None, redirect=None, status=None)) after connection broken by 'NewConnectionError('<pip._vendor.urllib3.connection.HTTPSConnection object at 0x796938c94d50>: Failed to establish a new connection: [Errno -3] Temporary failure in name resolution')': /simple/addict/\u001b[0m\n\u001b[33mWARNING: Retrying (Retry(total=3, connect=None, read=None, redirect=None, status=None)) after connection broken by 'NewConnectionError('<pip._vendor.urllib3.connection.HTTPSConnection object at 0x7969376042d0>: Failed to establish a new connection: [Errno -3] Temporary failure in name resolution')': /simple/addict/\u001b[0m\n\u001b[33mWARNING: Retrying (Retry(total=2, connect=None, read=None, redirect=None, status=None)) after connection broken by 'NewConnectionError('<pip._vendor.urllib3.connection.HTTPSConnection object at 0x796937604450>: Failed to establish a new connection: [Errno -3] Temporary failure in name resolution')': /simple/addict/\u001b[0m\n\u001b[33mWARNING: Retrying (Retry(total=1, connect=None, read=None, redirect=None, status=None)) after connection broken by 'NewConnectionError('<pip._vendor.urllib3.connection.HTTPSConnection object at 0x796937604810>: Failed to establish a new connection: [Errno -3] Temporary failure in name resolution')': /simple/addict/\u001b[0m\n\u001b[33mWARNING: Retrying (Retry(total=0, connect=None, read=None, redirect=None, status=None)) after connection broken by 'NewConnectionError('<pip._vendor.urllib3.connection.HTTPSConnection object at 0x796937604bd0>: Failed to establish a new connection: [Errno -3] Temporary failure in name resolution')': /simple/addict/\u001b[0m\n^C\n",
          "output_type": "stream"
        }
      ]
    },
    {
      "cell_type": "code",
      "source": [
        "import torch\n",
        "from torch import nn\n",
        "from torch.utils.data import Dataset, DataLoader\n",
        "from torch.optim import AdamW\n",
        "from torch.optim.lr_scheduler import ReduceLROnPlateau\n",
        "from torchvision import models\n",
        "from PIL import Image\n",
        "import albumentations as A\n",
        "from albumentations.pytorch.transforms import ToTensorV2\n",
        "import numpy as np\n",
        "import os\n",
        "import random\n",
        "from addict import Dict\n",
        "import seaborn as sns\n",
        "import matplotlib.pyplot as plt\n",
        "from tqdm import tqdm\n",
        "import logging"
      ],
      "metadata": {
        "execution": {
          "iopub.status.busy": "2024-04-29T05:15:59.342569Z",
          "iopub.execute_input": "2024-04-29T05:15:59.343537Z",
          "iopub.status.idle": "2024-04-29T05:16:00.592867Z",
          "shell.execute_reply.started": "2024-04-29T05:15:59.343477Z",
          "shell.execute_reply": "2024-04-29T05:16:00.588498Z"
        },
        "trusted": true,
        "id": "t0D7Skc3XHFS",
        "outputId": "0cc43fc2-a351-4caa-9dfc-57393fa05b07"
      },
      "execution_count": null,
      "outputs": [
        {
          "traceback": [
            "\u001b[0;31m---------------------------------------------------------------------------\u001b[0m",
            "\u001b[0;31mKeyboardInterrupt\u001b[0m                         Traceback (most recent call last)",
            "\u001b[0;32m<ipython-input-2-98f3ca6203c4>\u001b[0m in \u001b[0;36m<module>\u001b[0;34m\u001b[0m\n\u001b[0;32m----> 1\u001b[0;31m \u001b[0;32mimport\u001b[0m \u001b[0mtorch\u001b[0m\u001b[0;34m\u001b[0m\u001b[0;34m\u001b[0m\u001b[0m\n\u001b[0m\u001b[1;32m      2\u001b[0m \u001b[0;32mfrom\u001b[0m \u001b[0mtorch\u001b[0m \u001b[0;32mimport\u001b[0m \u001b[0mnn\u001b[0m\u001b[0;34m\u001b[0m\u001b[0;34m\u001b[0m\u001b[0m\n\u001b[1;32m      3\u001b[0m \u001b[0;32mfrom\u001b[0m \u001b[0mtorch\u001b[0m\u001b[0;34m.\u001b[0m\u001b[0mutils\u001b[0m\u001b[0;34m.\u001b[0m\u001b[0mdata\u001b[0m \u001b[0;32mimport\u001b[0m \u001b[0mDataset\u001b[0m\u001b[0;34m,\u001b[0m \u001b[0mDataLoader\u001b[0m\u001b[0;34m\u001b[0m\u001b[0;34m\u001b[0m\u001b[0m\n\u001b[1;32m      4\u001b[0m \u001b[0;32mfrom\u001b[0m \u001b[0mtorch\u001b[0m\u001b[0;34m.\u001b[0m\u001b[0moptim\u001b[0m \u001b[0;32mimport\u001b[0m \u001b[0mAdamW\u001b[0m\u001b[0;34m\u001b[0m\u001b[0;34m\u001b[0m\u001b[0m\n\u001b[1;32m      5\u001b[0m \u001b[0;32mfrom\u001b[0m \u001b[0mtorch\u001b[0m\u001b[0;34m.\u001b[0m\u001b[0moptim\u001b[0m\u001b[0;34m.\u001b[0m\u001b[0mlr_scheduler\u001b[0m \u001b[0;32mimport\u001b[0m \u001b[0mReduceLROnPlateau\u001b[0m\u001b[0;34m\u001b[0m\u001b[0;34m\u001b[0m\u001b[0m\n",
            "\u001b[0;32m/opt/conda/lib/python3.7/site-packages/torch/__init__.py\u001b[0m in \u001b[0;36m<module>\u001b[0;34m\u001b[0m\n\u001b[1;32m    562\u001b[0m \u001b[0;32mimport\u001b[0m \u001b[0mtorch\u001b[0m\u001b[0;34m.\u001b[0m\u001b[0mjit\u001b[0m\u001b[0;34m\u001b[0m\u001b[0;34m\u001b[0m\u001b[0m\n\u001b[1;32m    563\u001b[0m \u001b[0;32mimport\u001b[0m \u001b[0mtorch\u001b[0m\u001b[0;34m.\u001b[0m\u001b[0mlinalg\u001b[0m\u001b[0;34m\u001b[0m\u001b[0;34m\u001b[0m\u001b[0m\n\u001b[0;32m--> 564\u001b[0;31m \u001b[0;32mimport\u001b[0m \u001b[0mtorch\u001b[0m\u001b[0;34m.\u001b[0m\u001b[0mhub\u001b[0m\u001b[0;34m\u001b[0m\u001b[0;34m\u001b[0m\u001b[0m\n\u001b[0m\u001b[1;32m    565\u001b[0m \u001b[0;32mimport\u001b[0m \u001b[0mtorch\u001b[0m\u001b[0;34m.\u001b[0m\u001b[0mrandom\u001b[0m\u001b[0;34m\u001b[0m\u001b[0;34m\u001b[0m\u001b[0m\n\u001b[1;32m    566\u001b[0m \u001b[0;32mimport\u001b[0m \u001b[0mtorch\u001b[0m\u001b[0;34m.\u001b[0m\u001b[0mdistributions\u001b[0m\u001b[0;34m\u001b[0m\u001b[0;34m\u001b[0m\u001b[0m\n",
            "\u001b[0;32m/opt/conda/lib/python3.7/site-packages/torch/hub.py\u001b[0m in \u001b[0;36m<module>\u001b[0;34m\u001b[0m\n\u001b[1;32m     14\u001b[0m \u001b[0;34m\u001b[0m\u001b[0m\n\u001b[1;32m     15\u001b[0m \u001b[0;32mtry\u001b[0m\u001b[0;34m:\u001b[0m\u001b[0;34m\u001b[0m\u001b[0;34m\u001b[0m\u001b[0m\n\u001b[0;32m---> 16\u001b[0;31m     \u001b[0;32mfrom\u001b[0m \u001b[0mtqdm\u001b[0m\u001b[0;34m.\u001b[0m\u001b[0mauto\u001b[0m \u001b[0;32mimport\u001b[0m \u001b[0mtqdm\u001b[0m  \u001b[0;31m# automatically select proper tqdm submodule if available\u001b[0m\u001b[0;34m\u001b[0m\u001b[0;34m\u001b[0m\u001b[0m\n\u001b[0m\u001b[1;32m     17\u001b[0m \u001b[0;32mexcept\u001b[0m \u001b[0mImportError\u001b[0m\u001b[0;34m:\u001b[0m\u001b[0;34m\u001b[0m\u001b[0;34m\u001b[0m\u001b[0m\n\u001b[1;32m     18\u001b[0m     \u001b[0;32mtry\u001b[0m\u001b[0;34m:\u001b[0m\u001b[0;34m\u001b[0m\u001b[0;34m\u001b[0m\u001b[0m\n",
            "\u001b[0;32m/opt/conda/lib/python3.7/site-packages/tqdm/auto.py\u001b[0m in \u001b[0;36m<module>\u001b[0;34m\u001b[0m\n\u001b[1;32m     20\u001b[0m \u001b[0;32mwith\u001b[0m \u001b[0mwarnings\u001b[0m\u001b[0;34m.\u001b[0m\u001b[0mcatch_warnings\u001b[0m\u001b[0;34m(\u001b[0m\u001b[0;34m)\u001b[0m\u001b[0;34m:\u001b[0m\u001b[0;34m\u001b[0m\u001b[0;34m\u001b[0m\u001b[0m\n\u001b[1;32m     21\u001b[0m     \u001b[0mwarnings\u001b[0m\u001b[0;34m.\u001b[0m\u001b[0msimplefilter\u001b[0m\u001b[0;34m(\u001b[0m\u001b[0;34m\"ignore\"\u001b[0m\u001b[0;34m,\u001b[0m \u001b[0mcategory\u001b[0m\u001b[0;34m=\u001b[0m\u001b[0mTqdmExperimentalWarning\u001b[0m\u001b[0;34m)\u001b[0m\u001b[0;34m\u001b[0m\u001b[0;34m\u001b[0m\u001b[0m\n\u001b[0;32m---> 22\u001b[0;31m     \u001b[0;32mfrom\u001b[0m \u001b[0;34m.\u001b[0m\u001b[0mautonotebook\u001b[0m \u001b[0;32mimport\u001b[0m \u001b[0mtqdm\u001b[0m \u001b[0;32mas\u001b[0m \u001b[0mnotebook_tqdm\u001b[0m\u001b[0;34m\u001b[0m\u001b[0;34m\u001b[0m\u001b[0m\n\u001b[0m\u001b[1;32m     23\u001b[0m     \u001b[0;32mfrom\u001b[0m \u001b[0;34m.\u001b[0m\u001b[0mautonotebook\u001b[0m \u001b[0;32mimport\u001b[0m \u001b[0mtrange\u001b[0m \u001b[0;32mas\u001b[0m \u001b[0mnotebook_trange\u001b[0m\u001b[0;34m\u001b[0m\u001b[0;34m\u001b[0m\u001b[0m\n\u001b[1;32m     24\u001b[0m \u001b[0;34m\u001b[0m\u001b[0m\n",
            "\u001b[0;32m/opt/conda/lib/python3.7/site-packages/tqdm/autonotebook.py\u001b[0m in \u001b[0;36m<module>\u001b[0;34m\u001b[0m\n\u001b[1;32m     21\u001b[0m     \u001b[0;32mfrom\u001b[0m \u001b[0mwarnings\u001b[0m \u001b[0;32mimport\u001b[0m \u001b[0mwarn\u001b[0m\u001b[0;34m\u001b[0m\u001b[0;34m\u001b[0m\u001b[0m\n\u001b[1;32m     22\u001b[0m \u001b[0;34m\u001b[0m\u001b[0m\n\u001b[0;32m---> 23\u001b[0;31m     \u001b[0;32mfrom\u001b[0m \u001b[0;34m.\u001b[0m\u001b[0mnotebook\u001b[0m \u001b[0;32mimport\u001b[0m \u001b[0mtqdm\u001b[0m\u001b[0;34m,\u001b[0m \u001b[0mtrange\u001b[0m\u001b[0;34m\u001b[0m\u001b[0;34m\u001b[0m\u001b[0m\n\u001b[0m\u001b[1;32m     24\u001b[0m     \u001b[0;32mfrom\u001b[0m \u001b[0;34m.\u001b[0m\u001b[0mstd\u001b[0m \u001b[0;32mimport\u001b[0m \u001b[0mTqdmExperimentalWarning\u001b[0m\u001b[0;34m\u001b[0m\u001b[0;34m\u001b[0m\u001b[0m\n\u001b[1;32m     25\u001b[0m     warn(\"Using `tqdm.autonotebook.tqdm` in notebook mode.\"\n",
            "\u001b[0;32m/opt/conda/lib/python3.7/site-packages/tqdm/notebook.py\u001b[0m in \u001b[0;36m<module>\u001b[0;34m\u001b[0m\n\u001b[1;32m     24\u001b[0m     \u001b[0mIPY\u001b[0m \u001b[0;34m=\u001b[0m \u001b[0;36m0\u001b[0m\u001b[0;34m\u001b[0m\u001b[0;34m\u001b[0m\u001b[0m\n\u001b[1;32m     25\u001b[0m     \u001b[0;32mtry\u001b[0m\u001b[0;34m:\u001b[0m  \u001b[0;31m# IPython 4.x\u001b[0m\u001b[0;34m\u001b[0m\u001b[0;34m\u001b[0m\u001b[0m\n\u001b[0;32m---> 26\u001b[0;31m         \u001b[0;32mimport\u001b[0m \u001b[0mipywidgets\u001b[0m\u001b[0;34m\u001b[0m\u001b[0;34m\u001b[0m\u001b[0m\n\u001b[0m\u001b[1;32m     27\u001b[0m         \u001b[0mIPY\u001b[0m \u001b[0;34m=\u001b[0m \u001b[0;36m4\u001b[0m\u001b[0;34m\u001b[0m\u001b[0;34m\u001b[0m\u001b[0m\n\u001b[1;32m     28\u001b[0m     \u001b[0;32mexcept\u001b[0m \u001b[0mImportError\u001b[0m\u001b[0;34m:\u001b[0m  \u001b[0;31m# IPython 3.x / 2.x\u001b[0m\u001b[0;34m\u001b[0m\u001b[0;34m\u001b[0m\u001b[0m\n",
            "\u001b[0;32m/opt/conda/lib/python3.7/site-packages/ipywidgets/__init__.py\u001b[0m in \u001b[0;36m<module>\u001b[0;34m\u001b[0m\n\u001b[1;32m     23\u001b[0m \u001b[0;32mfrom\u001b[0m \u001b[0mIPython\u001b[0m \u001b[0;32mimport\u001b[0m \u001b[0mget_ipython\u001b[0m\u001b[0;34m\u001b[0m\u001b[0;34m\u001b[0m\u001b[0m\n\u001b[1;32m     24\u001b[0m \u001b[0;32mfrom\u001b[0m \u001b[0;34m.\u001b[0m\u001b[0m_version\u001b[0m \u001b[0;32mimport\u001b[0m \u001b[0mversion_info\u001b[0m\u001b[0;34m,\u001b[0m \u001b[0m__version__\u001b[0m\u001b[0;34m,\u001b[0m \u001b[0m__protocol_version__\u001b[0m\u001b[0;34m,\u001b[0m \u001b[0m__jupyter_widgets_controls_version__\u001b[0m\u001b[0;34m,\u001b[0m \u001b[0m__jupyter_widgets_base_version__\u001b[0m\u001b[0;34m\u001b[0m\u001b[0;34m\u001b[0m\u001b[0m\n\u001b[0;32m---> 25\u001b[0;31m \u001b[0;32mfrom\u001b[0m \u001b[0;34m.\u001b[0m\u001b[0mwidgets\u001b[0m \u001b[0;32mimport\u001b[0m \u001b[0;34m*\u001b[0m\u001b[0;34m\u001b[0m\u001b[0;34m\u001b[0m\u001b[0m\n\u001b[0m\u001b[1;32m     26\u001b[0m \u001b[0;32mfrom\u001b[0m \u001b[0mtraitlets\u001b[0m \u001b[0;32mimport\u001b[0m \u001b[0mlink\u001b[0m\u001b[0;34m,\u001b[0m \u001b[0mdlink\u001b[0m\u001b[0;34m\u001b[0m\u001b[0;34m\u001b[0m\u001b[0m\n\u001b[1;32m     27\u001b[0m \u001b[0;34m\u001b[0m\u001b[0m\n",
            "\u001b[0;32m/opt/conda/lib/python3.7/site-packages/ipywidgets/widgets/__init__.py\u001b[0m in \u001b[0;36m<module>\u001b[0;34m\u001b[0m\n\u001b[1;32m     14\u001b[0m \u001b[0;32mfrom\u001b[0m \u001b[0;34m.\u001b[0m\u001b[0mwidget_float\u001b[0m \u001b[0;32mimport\u001b[0m \u001b[0mFloatText\u001b[0m\u001b[0;34m,\u001b[0m \u001b[0mBoundedFloatText\u001b[0m\u001b[0;34m,\u001b[0m \u001b[0mFloatSlider\u001b[0m\u001b[0;34m,\u001b[0m \u001b[0mFloatProgress\u001b[0m\u001b[0;34m,\u001b[0m \u001b[0mFloatRangeSlider\u001b[0m\u001b[0;34m,\u001b[0m \u001b[0mFloatLogSlider\u001b[0m\u001b[0;34m\u001b[0m\u001b[0;34m\u001b[0m\u001b[0m\n\u001b[1;32m     15\u001b[0m \u001b[0;32mfrom\u001b[0m \u001b[0;34m.\u001b[0m\u001b[0mwidget_int\u001b[0m \u001b[0;32mimport\u001b[0m \u001b[0mIntText\u001b[0m\u001b[0;34m,\u001b[0m \u001b[0mBoundedIntText\u001b[0m\u001b[0;34m,\u001b[0m \u001b[0mIntSlider\u001b[0m\u001b[0;34m,\u001b[0m \u001b[0mIntProgress\u001b[0m\u001b[0;34m,\u001b[0m \u001b[0mIntRangeSlider\u001b[0m\u001b[0;34m,\u001b[0m \u001b[0mPlay\u001b[0m\u001b[0;34m,\u001b[0m \u001b[0mSliderStyle\u001b[0m\u001b[0;34m\u001b[0m\u001b[0;34m\u001b[0m\u001b[0m\n\u001b[0;32m---> 16\u001b[0;31m \u001b[0;32mfrom\u001b[0m \u001b[0;34m.\u001b[0m\u001b[0mwidget_color\u001b[0m \u001b[0;32mimport\u001b[0m \u001b[0mColorPicker\u001b[0m\u001b[0;34m\u001b[0m\u001b[0;34m\u001b[0m\u001b[0m\n\u001b[0m\u001b[1;32m     17\u001b[0m \u001b[0;32mfrom\u001b[0m \u001b[0;34m.\u001b[0m\u001b[0mwidget_date\u001b[0m \u001b[0;32mimport\u001b[0m \u001b[0mDatePicker\u001b[0m\u001b[0;34m\u001b[0m\u001b[0;34m\u001b[0m\u001b[0m\n\u001b[1;32m     18\u001b[0m \u001b[0;32mfrom\u001b[0m \u001b[0;34m.\u001b[0m\u001b[0mwidget_output\u001b[0m \u001b[0;32mimport\u001b[0m \u001b[0mOutput\u001b[0m\u001b[0;34m\u001b[0m\u001b[0;34m\u001b[0m\u001b[0m\n",
            "\u001b[0;32m/opt/conda/lib/python3.7/site-packages/ipywidgets/widgets/widget_color.py\u001b[0m in \u001b[0;36m<module>\u001b[0;34m\u001b[0m\n\u001b[1;32m     16\u001b[0m \u001b[0;34m\u001b[0m\u001b[0m\n\u001b[1;32m     17\u001b[0m \u001b[0;34m@\u001b[0m\u001b[0mregister\u001b[0m\u001b[0;34m\u001b[0m\u001b[0;34m\u001b[0m\u001b[0m\n\u001b[0;32m---> 18\u001b[0;31m \u001b[0;32mclass\u001b[0m \u001b[0mColorPicker\u001b[0m\u001b[0;34m(\u001b[0m\u001b[0mDescriptionWidget\u001b[0m\u001b[0;34m,\u001b[0m \u001b[0mValueWidget\u001b[0m\u001b[0;34m,\u001b[0m \u001b[0mCoreWidget\u001b[0m\u001b[0;34m)\u001b[0m\u001b[0;34m:\u001b[0m\u001b[0;34m\u001b[0m\u001b[0;34m\u001b[0m\u001b[0m\n\u001b[0m\u001b[1;32m     19\u001b[0m     \u001b[0mvalue\u001b[0m \u001b[0;34m=\u001b[0m \u001b[0mColor\u001b[0m\u001b[0;34m(\u001b[0m\u001b[0;34m'black'\u001b[0m\u001b[0;34m,\u001b[0m \u001b[0mhelp\u001b[0m\u001b[0;34m=\u001b[0m\u001b[0;34m\"The color value.\"\u001b[0m\u001b[0;34m)\u001b[0m\u001b[0;34m.\u001b[0m\u001b[0mtag\u001b[0m\u001b[0;34m(\u001b[0m\u001b[0msync\u001b[0m\u001b[0;34m=\u001b[0m\u001b[0;32mTrue\u001b[0m\u001b[0;34m)\u001b[0m\u001b[0;34m\u001b[0m\u001b[0;34m\u001b[0m\u001b[0m\n\u001b[1;32m     20\u001b[0m     \u001b[0mconcise\u001b[0m \u001b[0;34m=\u001b[0m \u001b[0mBool\u001b[0m\u001b[0;34m(\u001b[0m\u001b[0mhelp\u001b[0m\u001b[0;34m=\u001b[0m\u001b[0;34m\"Display short version with just a color selector.\"\u001b[0m\u001b[0;34m)\u001b[0m\u001b[0;34m.\u001b[0m\u001b[0mtag\u001b[0m\u001b[0;34m(\u001b[0m\u001b[0msync\u001b[0m\u001b[0;34m=\u001b[0m\u001b[0;32mTrue\u001b[0m\u001b[0;34m)\u001b[0m\u001b[0;34m\u001b[0m\u001b[0;34m\u001b[0m\u001b[0m\n",
            "\u001b[0;32m/opt/conda/lib/python3.7/site-packages/traitlets/traitlets.py\u001b[0m in \u001b[0;36m__init__\u001b[0;34m(cls, name, bases, classdict)\u001b[0m\n\u001b[1;32m    803\u001b[0m         \u001b[0;34m\"\"\"Finish initializing the HasDescriptors class.\"\"\"\u001b[0m\u001b[0;34m\u001b[0m\u001b[0;34m\u001b[0m\u001b[0m\n\u001b[1;32m    804\u001b[0m         \u001b[0msuper\u001b[0m\u001b[0;34m(\u001b[0m\u001b[0mMetaHasDescriptors\u001b[0m\u001b[0;34m,\u001b[0m \u001b[0mcls\u001b[0m\u001b[0;34m)\u001b[0m\u001b[0;34m.\u001b[0m\u001b[0m__init__\u001b[0m\u001b[0;34m(\u001b[0m\u001b[0mname\u001b[0m\u001b[0;34m,\u001b[0m \u001b[0mbases\u001b[0m\u001b[0;34m,\u001b[0m \u001b[0mclassdict\u001b[0m\u001b[0;34m)\u001b[0m\u001b[0;34m\u001b[0m\u001b[0;34m\u001b[0m\u001b[0m\n\u001b[0;32m--> 805\u001b[0;31m         \u001b[0mcls\u001b[0m\u001b[0;34m.\u001b[0m\u001b[0msetup_class\u001b[0m\u001b[0;34m(\u001b[0m\u001b[0mclassdict\u001b[0m\u001b[0;34m)\u001b[0m\u001b[0;34m\u001b[0m\u001b[0;34m\u001b[0m\u001b[0m\n\u001b[0m\u001b[1;32m    806\u001b[0m \u001b[0;34m\u001b[0m\u001b[0m\n\u001b[1;32m    807\u001b[0m     \u001b[0;32mdef\u001b[0m \u001b[0msetup_class\u001b[0m\u001b[0;34m(\u001b[0m\u001b[0mcls\u001b[0m\u001b[0;34m,\u001b[0m \u001b[0mclassdict\u001b[0m\u001b[0;34m)\u001b[0m\u001b[0;34m:\u001b[0m\u001b[0;34m\u001b[0m\u001b[0;34m\u001b[0m\u001b[0m\n",
            "\u001b[0;32m/opt/conda/lib/python3.7/site-packages/traitlets/traitlets.py\u001b[0m in \u001b[0;36msetup_class\u001b[0;34m(cls, classdict)\u001b[0m\n\u001b[1;32m    826\u001b[0m     \u001b[0;32mdef\u001b[0m \u001b[0msetup_class\u001b[0m\u001b[0;34m(\u001b[0m\u001b[0mcls\u001b[0m\u001b[0;34m,\u001b[0m \u001b[0mclassdict\u001b[0m\u001b[0;34m)\u001b[0m\u001b[0;34m:\u001b[0m\u001b[0;34m\u001b[0m\u001b[0;34m\u001b[0m\u001b[0m\n\u001b[1;32m    827\u001b[0m         \u001b[0mcls\u001b[0m\u001b[0;34m.\u001b[0m\u001b[0m_trait_default_generators\u001b[0m \u001b[0;34m=\u001b[0m \u001b[0;34m{\u001b[0m\u001b[0;34m}\u001b[0m\u001b[0;34m\u001b[0m\u001b[0;34m\u001b[0m\u001b[0m\n\u001b[0;32m--> 828\u001b[0;31m         \u001b[0msuper\u001b[0m\u001b[0;34m(\u001b[0m\u001b[0mMetaHasTraits\u001b[0m\u001b[0;34m,\u001b[0m \u001b[0mcls\u001b[0m\u001b[0;34m)\u001b[0m\u001b[0;34m.\u001b[0m\u001b[0msetup_class\u001b[0m\u001b[0;34m(\u001b[0m\u001b[0mclassdict\u001b[0m\u001b[0;34m)\u001b[0m\u001b[0;34m\u001b[0m\u001b[0;34m\u001b[0m\u001b[0m\n\u001b[0m\u001b[1;32m    829\u001b[0m \u001b[0;34m\u001b[0m\u001b[0m\n\u001b[1;32m    830\u001b[0m \u001b[0;34m\u001b[0m\u001b[0m\n",
            "\u001b[0;32m/opt/conda/lib/python3.7/site-packages/traitlets/traitlets.py\u001b[0m in \u001b[0;36msetup_class\u001b[0;34m(cls, classdict)\u001b[0m\n\u001b[1;32m    816\u001b[0m                 \u001b[0mv\u001b[0m\u001b[0;34m.\u001b[0m\u001b[0mclass_init\u001b[0m\u001b[0;34m(\u001b[0m\u001b[0mcls\u001b[0m\u001b[0;34m,\u001b[0m \u001b[0mk\u001b[0m\u001b[0;34m)\u001b[0m\u001b[0;34m\u001b[0m\u001b[0;34m\u001b[0m\u001b[0m\n\u001b[1;32m    817\u001b[0m \u001b[0;34m\u001b[0m\u001b[0m\n\u001b[0;32m--> 818\u001b[0;31m         \u001b[0;32mfor\u001b[0m \u001b[0mk\u001b[0m\u001b[0;34m,\u001b[0m \u001b[0mv\u001b[0m \u001b[0;32min\u001b[0m \u001b[0mgetmembers\u001b[0m\u001b[0;34m(\u001b[0m\u001b[0mcls\u001b[0m\u001b[0;34m)\u001b[0m\u001b[0;34m:\u001b[0m\u001b[0;34m\u001b[0m\u001b[0;34m\u001b[0m\u001b[0m\n\u001b[0m\u001b[1;32m    819\u001b[0m             \u001b[0;32mif\u001b[0m \u001b[0misinstance\u001b[0m\u001b[0;34m(\u001b[0m\u001b[0mv\u001b[0m\u001b[0;34m,\u001b[0m \u001b[0mBaseDescriptor\u001b[0m\u001b[0;34m)\u001b[0m\u001b[0;34m:\u001b[0m\u001b[0;34m\u001b[0m\u001b[0;34m\u001b[0m\u001b[0m\n\u001b[1;32m    820\u001b[0m                 \u001b[0mv\u001b[0m\u001b[0;34m.\u001b[0m\u001b[0msubclass_init\u001b[0m\u001b[0;34m(\u001b[0m\u001b[0mcls\u001b[0m\u001b[0;34m)\u001b[0m\u001b[0;34m\u001b[0m\u001b[0;34m\u001b[0m\u001b[0m\n",
            "\u001b[0;32m/opt/conda/lib/python3.7/site-packages/traitlets/traitlets.py\u001b[0m in \u001b[0;36mgetmembers\u001b[0;34m(object, predicate)\u001b[0m\n\u001b[1;32m    225\u001b[0m     \"\"\"\n\u001b[1;32m    226\u001b[0m     \u001b[0mresults\u001b[0m \u001b[0;34m=\u001b[0m \u001b[0;34m[\u001b[0m\u001b[0;34m]\u001b[0m\u001b[0;34m\u001b[0m\u001b[0;34m\u001b[0m\u001b[0m\n\u001b[0;32m--> 227\u001b[0;31m     \u001b[0;32mfor\u001b[0m \u001b[0mkey\u001b[0m \u001b[0;32min\u001b[0m \u001b[0mdir\u001b[0m\u001b[0;34m(\u001b[0m\u001b[0mobject\u001b[0m\u001b[0;34m)\u001b[0m\u001b[0;34m:\u001b[0m\u001b[0;34m\u001b[0m\u001b[0;34m\u001b[0m\u001b[0m\n\u001b[0m\u001b[1;32m    228\u001b[0m         \u001b[0;32mtry\u001b[0m\u001b[0;34m:\u001b[0m\u001b[0;34m\u001b[0m\u001b[0;34m\u001b[0m\u001b[0m\n\u001b[1;32m    229\u001b[0m             \u001b[0mvalue\u001b[0m \u001b[0;34m=\u001b[0m \u001b[0mgetattr\u001b[0m\u001b[0;34m(\u001b[0m\u001b[0mobject\u001b[0m\u001b[0;34m,\u001b[0m \u001b[0mkey\u001b[0m\u001b[0;34m)\u001b[0m\u001b[0;34m\u001b[0m\u001b[0;34m\u001b[0m\u001b[0m\n",
            "\u001b[0;31mKeyboardInterrupt\u001b[0m: "
          ],
          "ename": "KeyboardInterrupt",
          "evalue": "",
          "output_type": "error"
        }
      ]
    },
    {
      "cell_type": "markdown",
      "source": [
        "# Functions"
      ],
      "metadata": {
        "id": "uxXPvr9_XHFU"
      }
    },
    {
      "cell_type": "code",
      "source": [
        "def seed_everything(seed:int=42) -> None:\n",
        "    random.seed(seed)\n",
        "    os.environ['PYTHONASSEED'] = str(seed)\n",
        "    np.random.seed(seed)\n",
        "    torch.manual_seed(seed)\n",
        "    torch.cuda.manual_seed(seed)\n",
        "    torch.backends.cudnn.deterministic = True\n",
        "    torch.backends.cudnn.benchmark = True\n",
        "\n",
        "\n",
        "def get_optimizer(model:torch.nn.Module, name:str=\"SGD\", parameters:dict={}) -> torch.optim.Optimizer:\n",
        "    optimizers = {\n",
        "        \"SGD\": torch.optim.SGD,\n",
        "        \"AdamW\": torch.optim.AdamW,\n",
        "        \"Adam\": torch.optim.Adam,\n",
        "        \"RMSprop\": torch.optim.RMSprop,\n",
        "    }\n",
        "\n",
        "    instance = optimizers.get(name, \"SGD\")\n",
        "    optimizer = instance(model.parameters(), **parameters)\n",
        "\n",
        "    return optimizer\n",
        "\n",
        "\n",
        "def get_scheduler(optimizer:torch.optim.Optimizer, name:str, parameters:dict):\n",
        "    schedulers = {\n",
        "        \"ReduceLROnPlateau\": torch.optim.lr_scheduler.ReduceLROnPlateau,\n",
        "        \"LambdaLR\": torch.optim.lr_scheduler.LambdaLR,\n",
        "        \"StepLR\": torch.optim.lr_scheduler.StepLR,\n",
        "        \"ExponentialLR\": torch.optim.lr_scheduler.ExponentialLR,\n",
        "        \"MultiplicativeLR\": torch.optim.lr_scheduler.MultiplicativeLR,\n",
        "        \"MultiStepLR\": torch.optim.lr_scheduler.MultiStepLR,\n",
        "    }\n",
        "\n",
        "    instance = schedulers[name]\n",
        "    scheduler = instance(optimizer, **parameters)\n",
        "\n",
        "    return scheduler\n",
        "\n",
        "\n",
        "\n",
        "def accuracy_score(predictions:torch.Tensor, targets:torch.Tensor) -> torch.Tensor:\n",
        "    amount = (predictions == targets).sum()\n",
        "    accuracy = amount / targets.size(0)\n",
        "\n",
        "    return accuracy\n",
        "\n",
        "\n",
        "\n",
        "def hide_spines(ax, spines=[\"top\", \"right\", \"left\", \"bottom\"]):\n",
        "    for spine in spines:\n",
        "        ax.spines[spine].set_visible(False)\n",
        "\n",
        "def plot_images(rows, cols, indexes, class_=0):\n",
        "    min_index = min(indexes)\n",
        "    max_index = max(indexes)\n",
        "    fig = plt.figure(figsize=(3*cols, 3*rows))\n",
        "    for i in range(*indexes):\n",
        "        item = train_dataset[i]\n",
        "        image = item.image\n",
        "        label = item.label\n",
        "\n",
        "        if label == class_:\n",
        "            ax = fig.add_subplot(rows, cols, (i - min_index)+1)\n",
        "            ax.imshow(image.permute(1, 2, 0))\n",
        "            ax.xaxis.set_visible(False)\n",
        "            ax.yaxis.set_visible(False)\n",
        "\n",
        "    fig.text(s=f\"{train_dataset.labels[class_]} leaves\", x=0.125, y=0.9, fontweight=\"bold\", fontfamily=\"serif\", fontsize=20)\n",
        "    fig.show()\n",
        "\n",
        "\n",
        "def get_logger(name:str=__name__, format:str=\"[%(asctime)s][%(levelname)s]: %(message)s\") -> logging.Logger:\n",
        "    logger = logging.getLogger(name)\n",
        "    logger.setLevel(logging.INFO)\n",
        "    formatter = logging.Formatter(format)\n",
        "\n",
        "    file_handler = logging.FileHandler(name)\n",
        "    file_handler.setLevel(logging.INFO)\n",
        "    file_handler.setFormatter(formatter)\n",
        "\n",
        "    stream_handler = logging.StreamHandler()\n",
        "    stream_handler.setLevel(logging.INFO)\n",
        "    stream_handler.setFormatter(formatter)\n",
        "\n",
        "    logger.addHandler(stream_handler)\n",
        "    logger.addHandler(file_handler)\n",
        "\n",
        "    logger.propagate = False\n",
        "\n",
        "    return logger"
      ],
      "metadata": {
        "execution": {
          "iopub.status.busy": "2024-04-29T05:16:00.593839Z",
          "iopub.status.idle": "2024-04-29T05:16:00.594264Z"
        },
        "trusted": true,
        "id": "opXCAyXPXHFW"
      },
      "execution_count": null,
      "outputs": []
    },
    {
      "cell_type": "markdown",
      "source": [
        "# Configs"
      ],
      "metadata": {
        "id": "HWOYL-_5XHFY"
      }
    },
    {
      "cell_type": "code",
      "source": [
        "config = Dict({\n",
        "    \"train_path\": \"../input/plant-disease-recognition-dataset/Train/Train\",\n",
        "    \"test_path\": \"../input/plant-disease-recognition-dataset/Test/Test\",\n",
        "    \"validation_path\": \"../input/plant-disease-recognition-dataset/Validation/Validation\"\n",
        "})\n",
        "\n",
        "train_config = Dict({\n",
        "    \"device\": torch.device(\"cuda\" if torch.cuda.is_available() else \"cpu\"),\n",
        "    \"epochs\": 5,\n",
        "    \"seed\": 2021,\n",
        "    \"image_shape\": (128, 128),\n",
        "    \"image_channels\": 3,\n",
        "    \"num_workers\": 0,\n",
        "    \"batch_size\": 32,\n",
        "\n",
        "    \"augmentations\": A.Compose([\n",
        "        A.HorizontalFlip(p=0.5),\n",
        "        A.VerticalFlip(p=0.5),\n",
        "        #A.Blur(p=1),\n",
        "        ToTensorV2(),\n",
        "    ]),\n",
        "    \"optimizer\": {\n",
        "        \"type\": \"AdamW\",\n",
        "        \"parameters\": {\n",
        "            \"lr\": 0.001,\n",
        "            \"weight_decay\": 0.01,\n",
        "        }\n",
        "    },\n",
        "\n",
        "    \"scheduler\": {\n",
        "        \"type\": \"ReduceLROnPlateau\",\n",
        "        \"parameters\": {\n",
        "            \"patience\": 2,\n",
        "            \"mode\": \"min\",\n",
        "            \"factor\": 0.1,\n",
        "        }\n",
        "    }\n",
        "})\n",
        "\n",
        "\n",
        "seed_everything(train_config.seed)"
      ],
      "metadata": {
        "execution": {
          "iopub.status.busy": "2024-04-29T05:16:00.595804Z",
          "iopub.status.idle": "2024-04-29T05:16:00.596494Z"
        },
        "trusted": true,
        "id": "VJyCCSNGXHFY"
      },
      "execution_count": null,
      "outputs": []
    },
    {
      "cell_type": "markdown",
      "source": [
        "# Dataset"
      ],
      "metadata": {
        "id": "meYYvsg8XHFa"
      }
    },
    {
      "cell_type": "code",
      "source": [
        "class PlantDiseaseDataset(Dataset):\n",
        "    def __init__(self, path, augmentations=None, image_shape=(256, 256), channels=\"RGB\"):\n",
        "        self.__images_labels = []\n",
        "        self.image_shape = image_shape\n",
        "        self.channels = channels\n",
        "        self.augmentations = augmentations\n",
        "\n",
        "        if os.path.exists(path):\n",
        "            self.labels = os.listdir(path)\n",
        "            for label in self.labels:\n",
        "                label_path = os.path.join(path, label)\n",
        "                if os.path.isdir(label_path):\n",
        "                    files = os.listdir(label_path)\n",
        "                    for file in files:\n",
        "                        if file.endswith(\"jpg\") or file.endswith(\"png\"):\n",
        "                            image_path = os.path.join(label_path, file)\n",
        "                            self.__images_labels.append((image_path, label))\n",
        "                        else:\n",
        "                            pass\n",
        "                else:\n",
        "                    pass\n",
        "\n",
        "        else:\n",
        "            pass\n",
        "\n",
        "    def _load(self, path, channels=\"RGB\"):\n",
        "        width, height = self.image_shape\n",
        "        loader = A.Compose([\n",
        "            A.Resize(width=width, height=height),\n",
        "            ToTensorV2(),\n",
        "        ])\n",
        "\n",
        "        image_array = np.array(Image.open(path).convert(channels))\n",
        "        return loader(image=image_array)[\"image\"]\n",
        "\n",
        "    def __len__(self):\n",
        "        return len(self.__images_labels)\n",
        "\n",
        "    def __getitem__(self, index):\n",
        "        path, label = self.__images_labels[index]\n",
        "        image = self._load(path)\n",
        "\n",
        "        if self.augmentations is not None:\n",
        "            image = image.permute(1, 2, 0).numpy()\n",
        "            image = self.augmentations(image=image)[\"image\"]\n",
        "\n",
        "        label = self.labels.index(label)\n",
        "\n",
        "        return Dict({\n",
        "            \"image\": image,\n",
        "            \"label\": label,\n",
        "        })\n",
        "\n",
        "\n",
        "def collate_fn(batch):\n",
        "    all_images, all_labels = [], []\n",
        "    for item in batch:\n",
        "        image = item.image\n",
        "        label = item.label\n",
        "\n",
        "        all_images.append(item.image.tolist())\n",
        "        all_labels.append(label)\n",
        "\n",
        "    return {\n",
        "        \"images\": torch.tensor(all_images),\n",
        "        \"labels\": torch.tensor(all_labels, dtype=torch.int8)\n",
        "    }\n",
        ""
      ],
      "metadata": {
        "execution": {
          "iopub.status.busy": "2024-04-29T05:16:00.598004Z",
          "iopub.status.idle": "2024-04-29T05:16:00.598668Z"
        },
        "trusted": true,
        "id": "GC7ePdr7XHFb"
      },
      "execution_count": null,
      "outputs": []
    },
    {
      "cell_type": "markdown",
      "source": [
        "# Exploratory Data Analysis"
      ],
      "metadata": {
        "id": "cJGiy428XHFb"
      }
    },
    {
      "cell_type": "code",
      "source": [
        "train_dataset = PlantDiseaseDataset(path=config.train_path,\n",
        "                                    image_shape=train_config.image_shape,\n",
        "                                    channels=train_config.image_channels)"
      ],
      "metadata": {
        "execution": {
          "iopub.status.busy": "2024-04-29T05:16:00.60021Z",
          "iopub.status.idle": "2024-04-29T05:16:00.600883Z"
        },
        "trusted": true,
        "id": "6oJZIOVtXHFc"
      },
      "execution_count": null,
      "outputs": []
    },
    {
      "cell_type": "code",
      "source": [
        "label_pathes = [os.path.join(config.train_path, label) for label in train_dataset.labels]\n",
        "label_files = [os.listdir(path) for path in label_pathes]\n",
        "amount = [len(files) for files in label_files]\n",
        "\n",
        "palette = sns.color_palette([\"#5FB924\", \"#AB4800\", \"#B2BBAC\"])\n",
        "fig = plt.figure(figsize=(7, 7))\n",
        "ax = fig.add_subplot()\n",
        "ax.grid(color=\"lightgrey\", axis=\"both\", alpha=0.8, zorder=0)\n",
        "sns.barplot(x=train_dataset.labels, y=amount, palette=palette,  ec=\"#000\", linewidth=1.5, zorder=2, ax=ax)\n",
        "ax.xaxis.set_tick_params(labelsize=14, size=0, pad=10)\n",
        "ax.yaxis.set_tick_params(labelsize=12, size=0, pad=5)\n",
        "ax.set_yticks(list(range(0, 450, 50)))\n",
        "ax.set_title(f\"Classes Distribution\", fontsize=20, fontweight=\"bold\", fontfamily=\"serif\", loc=\"left\", y=1.01)\n",
        "ax.set_xlabel(\"Classes\", fontsize=15, fontfamily=\"serif\", labelpad=5)\n",
        "ax.set_ylabel(\"Count\", fontsize=15, fontfamily=\"serif\", labelpad=5)\n",
        "hide_spines(ax)\n",
        "fig.show()"
      ],
      "metadata": {
        "execution": {
          "iopub.status.busy": "2024-04-29T05:16:00.602195Z",
          "iopub.status.idle": "2024-04-29T05:16:00.602857Z"
        },
        "trusted": true,
        "id": "-olCfUusXHFc"
      },
      "execution_count": null,
      "outputs": []
    },
    {
      "cell_type": "code",
      "source": [
        "plot_images(rows=5, cols=5, indexes=(0, 25), class_=0)"
      ],
      "metadata": {
        "execution": {
          "iopub.status.busy": "2024-04-29T05:16:00.604027Z",
          "iopub.status.idle": "2024-04-29T05:16:00.604671Z"
        },
        "trusted": true,
        "id": "tSKBAD5LXHFd"
      },
      "execution_count": null,
      "outputs": []
    },
    {
      "cell_type": "code",
      "source": [
        "plot_images(rows=5, cols=5, indexes=(500, 525), class_=1)"
      ],
      "metadata": {
        "execution": {
          "iopub.status.busy": "2024-04-29T05:16:00.606012Z",
          "iopub.status.idle": "2024-04-29T05:16:00.606659Z"
        },
        "trusted": true,
        "id": "TbZ71ZSSXHFd"
      },
      "execution_count": null,
      "outputs": []
    },
    {
      "cell_type": "code",
      "source": [
        "plot_images(rows=5, cols=5, indexes=(len(train_dataset)-25, len(train_dataset)), class_=2)"
      ],
      "metadata": {
        "execution": {
          "iopub.status.busy": "2024-04-29T05:16:00.607909Z",
          "iopub.status.idle": "2024-04-29T05:16:00.608529Z"
        },
        "trusted": true,
        "id": "DNgupCa4XHFd"
      },
      "execution_count": null,
      "outputs": []
    },
    {
      "cell_type": "markdown",
      "source": [
        "# Preprate the Datasets & Data Loaders"
      ],
      "metadata": {
        "id": "ptOuQBfOXHFe"
      }
    },
    {
      "cell_type": "code",
      "source": [
        "train_dataset = PlantDiseaseDataset(path=config.train_path,\n",
        "                                    augmentations=train_config.augmentations,\n",
        "                                    image_shape=train_config.image_shape,\n",
        "                                    channels=train_config.image_channels)\n",
        "\n",
        "validation_dataset = PlantDiseaseDataset(path=config.validation_path,\n",
        "                                         augmentations=train_config.augmentations,\n",
        "                                         image_shape=train_config.image_shape,\n",
        "                                         channels=train_config.image_channels)\n",
        "\n",
        "test_dataset = PlantDiseaseDataset(path=config.test_path,\n",
        "                                   augmentations=train_config.augmentations,\n",
        "                                   image_shape=train_config.image_shape,\n",
        "                                   channels=train_config.image_channels)"
      ],
      "metadata": {
        "execution": {
          "iopub.status.busy": "2024-04-29T05:16:00.609636Z",
          "iopub.status.idle": "2024-04-29T05:16:00.610275Z"
        },
        "trusted": true,
        "id": "AJEayTNmXHFe"
      },
      "execution_count": null,
      "outputs": []
    },
    {
      "cell_type": "code",
      "source": [
        "train_loader = DataLoader(dataset=train_dataset,\n",
        "                          batch_size=train_config.batch_size,\n",
        "                          num_workers=train_config.num_workers,\n",
        "                          pin_memory=True,\n",
        "                          shuffle=True,\n",
        "                          collate_fn=collate_fn)\n",
        "\n",
        "validation_loader = DataLoader(dataset=validation_dataset,\n",
        "                               batch_size=train_config.batch_size*2,\n",
        "                               num_workers=train_config.num_workers,\n",
        "                               pin_memory=True,\n",
        "                               shuffle=False,\n",
        "                               collate_fn=collate_fn)\n",
        "\n",
        "test_loader = DataLoader(dataset=test_dataset,\n",
        "                         batch_size=train_config.batch_size*2,\n",
        "                         num_workers=train_config.num_workers,\n",
        "                         pin_memory=True,\n",
        "                         shuffle=False,\n",
        "                         collate_fn=collate_fn)"
      ],
      "metadata": {
        "execution": {
          "iopub.status.busy": "2024-04-29T05:16:00.611544Z",
          "iopub.status.idle": "2024-04-29T05:16:00.612176Z"
        },
        "trusted": true,
        "id": "GMRvS8i1XHFe"
      },
      "execution_count": null,
      "outputs": []
    },
    {
      "cell_type": "markdown",
      "source": [
        "# Modelling"
      ],
      "metadata": {
        "id": "cZtEbppmXHFf"
      }
    },
    {
      "cell_type": "code",
      "source": [
        "class PlantDiseaseModel(nn.Module):\n",
        "    def __init__(self, classes=2):\n",
        "        super(PlantDiseaseModel, self).__init__()\n",
        "        self.model = models.resnet34(pretrained=True)\n",
        "\n",
        "        for parameter in self.model.parameters():\n",
        "            parameter.require_grad = False\n",
        "\n",
        "        in_features = self.model.fc.in_features\n",
        "        self.model.fc = nn.Sequential(\n",
        "            nn.Linear(in_features=in_features, out_features=classes),\n",
        "            nn.Softmax(dim=1)\n",
        "        )\n",
        "\n",
        "    def forward(self, image):\n",
        "        output = self.model(image)\n",
        "        return output"
      ],
      "metadata": {
        "execution": {
          "iopub.status.busy": "2024-04-29T05:16:00.613351Z",
          "iopub.status.idle": "2024-04-29T05:16:00.61401Z"
        },
        "trusted": true,
        "id": "hFZ6zURGXHFf"
      },
      "execution_count": null,
      "outputs": []
    },
    {
      "cell_type": "code",
      "source": [
        "class Trainer:\n",
        "    def __init__(self, model, criterion, optimizer,  metric, scheduler=None, logger=None, device=\"cpu\"):\n",
        "        self.model = model\n",
        "        self.criterion = criterion\n",
        "        self.optimizer = optimizer\n",
        "        self.scheduler = scheduler\n",
        "        self.logger = logger\n",
        "        self.device = torch.device(device)\n",
        "        self.best_validation_loss = 0\n",
        "        self.metric = metric\n",
        "        self.history = Dict({})\n",
        "\n",
        "    def __log(self, logs):\n",
        "        for k, v in logs.items():\n",
        "            if k not in self.history:\n",
        "                self.history[k] = []\n",
        "\n",
        "            self.history[k].append(v)\n",
        "\n",
        "    def evaluate(self, loader):\n",
        "        loss, score, length = 0, 0, len(loader)\n",
        "\n",
        "        self.model.to(self.device)\n",
        "        with torch.no_grad():\n",
        "            loop = tqdm(loader, position=0, colour=\"BLACK\", desc=f\"Evaluating: \", leave=True)\n",
        "            for batch in loop:\n",
        "                if self.device.type != \"cpu\": torch.cuda.empty_cache()\n",
        "                self.model.eval()\n",
        "\n",
        "                images = batch[\"images\"].float().to(self.device)\n",
        "                labels = batch[\"labels\"].long().to(\"cpu\")\n",
        "\n",
        "                probabilities = self.model(images).float().to(\"cpu\")\n",
        "                predictions = torch.argmax(probabilities, dim=1).detach()\n",
        "\n",
        "                batch_loss = self.criterion(probabilities, labels)\n",
        "                loss += batch_loss.item()\n",
        "\n",
        "                batch_score = self.metric(predictions, labels).item()\n",
        "                score += batch_score\n",
        "\n",
        "            loss /= length\n",
        "            score /= length\n",
        "\n",
        "        return loss, score\n",
        "\n",
        "\n",
        "\n",
        "    def fit(self, train_loader, validation_loader=None, epochs=10):\n",
        "        self.model.to(self.device)\n",
        "        train_length = len(train_loader)\n",
        "\n",
        "        for epoch in range(epochs):\n",
        "            epoch_loss, epoch_score = 0, 0\n",
        "\n",
        "            loop = tqdm(train_loader, position=0, colour=\"BLACK\", leave=True, desc=f\"Epoch [{epoch+1}/{epochs}]: \")\n",
        "            for batch in loop:\n",
        "                if self.device.type != \"cpu\": torch.cuda.empty_cache()\n",
        "                self.optimizer.zero_grad()\n",
        "                self.model.train()\n",
        "\n",
        "                images = batch[\"images\"].float().to(self.device)\n",
        "                labels = batch[\"labels\"].long().to(\"cpu\")\n",
        "\n",
        "                probabilities = self.model(images).float().to(\"cpu\")\n",
        "                predictions = torch.argmax(probabilities, dim=1).detach()\n",
        "\n",
        "                batch_loss = self.criterion(probabilities, labels)\n",
        "                epoch_loss += batch_loss.item()\n",
        "\n",
        "                batch_score = self.metric(predictions, labels).item()\n",
        "                epoch_score += batch_score\n",
        "\n",
        "                batch_loss.backward()\n",
        "                self.optimizer.step()\n",
        "\n",
        "            epoch_loss /= train_length\n",
        "            epoch_score /= train_length\n",
        "\n",
        "            self.__log({\"train_losses\": epoch_loss, \"train_scores\": epoch_score})\n",
        "            if self.logger is not None: self.logger.info(f\"Epoch [{epoch+1}/{epochs}]: Loss: {epoch_loss} | Metric: {epoch_score}\")\n",
        "\n",
        "            if validation_loader is not None:\n",
        "                validation_loss, validation_score = self.evaluate(validation_loader)\n",
        "                self.__log({\"validation_losses\": validation_loss, \"validation_scores\": validation_score})\n",
        "                if self.logger is not None: self.logger.info(f\"Validation Epoch [{epoch+1}/{epochs}]: Loss: {validation_loss} | Metric: {validation_score}\")\n",
        "\n",
        "\n",
        "\n",
        "                if self.scheduler is not None:\n",
        "                    if isinstance(self.scheduler, torch.optim.lr_scheduler.ReduceLROnPlateau):\n",
        "                        self.scheduler.step(validation_loss)\n",
        "                    else:\n",
        "                        self.scheduler.step()\n",
        "\n",
        "                    if self.logger is not None:\n",
        "                        lr = self.optimizer.param_groups[0][\"lr\"]\n",
        "                        self.logger.info(f\"Epoch [{epoch+1}/{epochs}] Learning Rate: {lr}\")"
      ],
      "metadata": {
        "execution": {
          "iopub.status.busy": "2024-04-29T05:16:00.615503Z",
          "iopub.status.idle": "2024-04-29T05:16:00.616147Z"
        },
        "trusted": true,
        "id": "1d6ml2x3XHFf"
      },
      "execution_count": null,
      "outputs": []
    },
    {
      "cell_type": "code",
      "source": [
        "model = PlantDiseaseModel(classes=len(train_dataset.labels))\n",
        "criterion = nn.CrossEntropyLoss()\n",
        "optimizer = get_optimizer(model=model,\n",
        "                          name=train_config.optimizer.type,\n",
        "                          parameters=train_config.optimizer.parameters)\n",
        "\n",
        "if \"scheduler\" in train_config:\n",
        "    scheduler = get_scheduler(optimizer=optimizer,\n",
        "                              name=train_config.scheduler.type,\n",
        "                              parameters=train_config.scheduler.parameters)\n",
        "\n",
        "trainer_logger = get_logger(\"trainer\")\n",
        "trainer = Trainer(model=model,\n",
        "                  criterion=criterion,\n",
        "                  metric=accuracy_score,\n",
        "                  optimizer=optimizer,\n",
        "                  scheduler=scheduler,\n",
        "                  logger=trainer_logger,\n",
        "                  device=train_config.device)"
      ],
      "metadata": {
        "execution": {
          "iopub.status.busy": "2024-04-29T05:16:00.617297Z",
          "iopub.status.idle": "2024-04-29T05:16:00.61795Z"
        },
        "trusted": true,
        "id": "I2dQlf2jXHFg"
      },
      "execution_count": null,
      "outputs": []
    },
    {
      "cell_type": "code",
      "source": [
        "trainer.fit(train_loader=train_loader,\n",
        "            validation_loader=validation_loader,\n",
        "            epochs=train_config.epochs)"
      ],
      "metadata": {
        "execution": {
          "iopub.status.busy": "2024-04-29T05:16:00.619187Z",
          "iopub.status.idle": "2024-04-29T05:16:00.619834Z"
        },
        "trusted": true,
        "id": "VnoQ_WyEXHFg"
      },
      "execution_count": null,
      "outputs": []
    },
    {
      "cell_type": "code",
      "source": [
        "epochs_ = range(1, train_config.epochs+1)\n",
        "fig = plt.figure(figsize=(10, 5))\n",
        "ax = fig.add_subplot()\n",
        "ax.grid(color=\"lightgrey\", axis=\"both\", alpha=0.8, zorder=0)\n",
        "sns.lineplot(x=epochs_, y=trainer.history.train_losses, color=\"red\", marker=\"o\", label=\"Train Loss\", zorder=2, ax=ax)\n",
        "sns.lineplot(x=epochs_, y=trainer.history.validation_losses, color=\"blue\", marker=\"o\", label=\"Validation Loss\", zorder=2, ax=ax)\n",
        "ax.set_title(\"Train & Validation Losses\", fontsize=20, fontweight=\"bold\", fontfamily=\"serif\", loc=\"left\", y=1.05)\n",
        "hide_spines(ax)\n",
        "ax.xaxis.set_tick_params(labelsize=12, size=0, pad=10)\n",
        "ax.yaxis.set_tick_params(labelsize=12, size=0, pad=5)\n",
        "ax.set_xlabel(\"Epochs\", fontsize=15, fontfamily=\"serif\", labelpad=10)\n",
        "ax.set_ylabel(\"Loss\", fontsize=15, fontfamily=\"serif\", labelpad=5)\n",
        "ax.legend()\n",
        "fig.show()"
      ],
      "metadata": {
        "execution": {
          "iopub.status.busy": "2024-04-29T05:16:00.620993Z",
          "iopub.status.idle": "2024-04-29T05:16:00.62165Z"
        },
        "trusted": true,
        "id": "Oe0VSFSvXHFg"
      },
      "execution_count": null,
      "outputs": []
    },
    {
      "cell_type": "code",
      "source": [
        "fig = plt.figure(figsize=(10, 5))\n",
        "ax = fig.add_subplot()\n",
        "ax.grid(color=\"lightgrey\", axis=\"both\", alpha=0.8, zorder=0)\n",
        "sns.lineplot(x=epochs_, y=trainer.history.train_scores, color=\"red\", marker=\"o\", label=\"Train Accuracy\", zorder=2, ax=ax)\n",
        "sns.lineplot(x=epochs_, y=trainer.history.validation_scores, color=\"blue\", marker=\"o\", label=\"Validation Accuracy\", zorder=2, ax=ax)\n",
        "ax.set_title(\"Train & Validation Accuracy\", fontsize=20, fontweight=\"bold\", fontfamily=\"serif\", loc=\"left\", y=1.05)\n",
        "hide_spines(ax)\n",
        "ax.xaxis.set_tick_params(labelsize=12, size=0, pad=10)\n",
        "ax.yaxis.set_tick_params(labelsize=12, size=0, pad=5)\n",
        "ax.set_xlabel(\"Epochs\", fontsize=15, fontfamily=\"serif\", labelpad=10)\n",
        "ax.set_ylabel(\"Accuracy\", fontsize=15, fontfamily=\"serif\", labelpad=5)\n",
        "ax.legend()\n",
        "fig.show()"
      ],
      "metadata": {
        "execution": {
          "iopub.status.busy": "2024-04-29T05:16:00.623037Z",
          "iopub.status.idle": "2024-04-29T05:16:00.623726Z"
        },
        "trusted": true,
        "id": "ztLpMCMyXHFg"
      },
      "execution_count": null,
      "outputs": []
    },
    {
      "cell_type": "markdown",
      "source": [
        "<h1 style=\"font-size: 30px; font-family: 'Inter', sans-serif;\">References</h1>\n",
        "<ul style=\"font-size: 15px; font-family: 'Inter', sans-serif;\">\n",
        "<li><a href=\"https://arxiv.org/abs/1512.03385\">Resnet50 - https://arxiv.org/abs/1512.03385</a>\n",
        "<li><a href=\"https://arxiv.org/abs/1711.05101\">Adam - https://arxiv.org/abs/1512.03385</a>\n",
        "<li><a href=\"https://machinelearningmastery.com/cross-entropy-for-machine-learning/\">Cross Entropy Loss - https://machinelearningmastery.com/cross-entropy-for-machine-learning/</a>\n",
        "</ul>"
      ],
      "metadata": {
        "id": "bkDZWqDkXHFh"
      }
    },
    {
      "cell_type": "code",
      "source": [],
      "metadata": {
        "id": "q9oQMuwtXHFh"
      },
      "execution_count": null,
      "outputs": []
    }
  ]
}